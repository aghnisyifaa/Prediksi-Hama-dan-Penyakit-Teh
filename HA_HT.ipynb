{
  "nbformat": 4,
  "nbformat_minor": 0,
  "metadata": {
    "colab": {
      "provenance": [],
      "gpuType": "T4"
    },
    "kernelspec": {
      "name": "python3",
      "display_name": "Python 3"
    },
    "language_info": {
      "name": "python"
    },
    "accelerator": "GPU"
  },
  "cells": [
    {
      "cell_type": "code",
      "source": [
        "from google.colab import drive\n",
        "drive.mount('/content/drive')\n",
        "\n",
        "!pip install efficientnet\n",
        "\n",
        "import tensorflow as tf\n",
        "import efficientnet.keras as efn\n",
        "from tensorflow.keras.models import Sequential\n",
        "from tensorflow.keras.layers import  Flatten, Dense, Dropout\n",
        "from tensorflow.keras.optimizers import Adam\n",
        "from tensorflow.keras.preprocessing import image\n",
        "from tensorflow.keras.utils import array_to_img, to_categorical\n",
        "from sklearn.metrics import confusion_matrix\n",
        "import matplotlib.pyplot as plt\n",
        "import numpy as np\n",
        "import seaborn as sns\n",
        "import os\n",
        "\n",
        "def load_images_from_path(path, label):\n",
        "    images = []\n",
        "    labels = []\n",
        "\n",
        "    for file in os.listdir(path):\n",
        "        images.append(image.img_to_array(image.load_img(os.path.join(path, file), target_size=(380, 380, 3))))\n",
        "        labels.append((label))\n",
        "\n",
        "    return images, labels\n",
        "\n",
        "def show_images(images):\n",
        "    fig, axes = plt.subplots(1, 5, figsize=(20, 20), subplot_kw={'xticks': [], 'yticks': []})\n",
        "\n",
        "    for i, ax in enumerate(axes.flat):\n",
        "        ax.imshow(images[i] / 255)\n",
        "\n",
        "x_train = []\n",
        "y_train = []\n",
        "x_test = []\n",
        "y_test = []\n",
        "\n",
        "base_dir = \"/content/drive/MyDrive/SKRIPSI AGHNI/HA-HT/S3\"\n",
        "train_dir = os.path.join(base_dir, 'train')\n",
        "val_dir = os.path.join(base_dir, 'test')\n",
        "\n",
        "directories_train = [(os.path.join(train_dir, 'HA'), 0),\n",
        "                     (os.path.join(train_dir, 'HT'), 1)]\n",
        "\n",
        "directories_test = [(os.path.join(val_dir, 'HA'), 0),\n",
        "                    (os.path.join(val_dir, 'HT'), 1)]\n",
        "\n",
        "# Load train images and labels\n",
        "for directory, label in directories_train:\n",
        "    images, labels = load_images_from_path(directory, label)\n",
        "    x_train += images\n",
        "    y_train += labels\n",
        "\n",
        "# Load test images and labels\n",
        "for directory, label in directories_test:\n",
        "    images, labels = load_images_from_path(directory, label)\n",
        "    x_test += images\n",
        "    y_test += labels\n",
        "\n",
        "x_train_norm = np.array(x_train) / 255\n",
        "x_test_norm = np.array(x_test) / 255\n",
        "\n",
        "y_train_encoded = to_categorical(y_train)\n",
        "y_test_encoded = to_categorical(y_test)\n",
        "\n",
        "model = Sequential()\n",
        "efficient_net = efn.EfficientNetB4(weights=\"imagenet\" , include_top=True, input_shape=(380,380,3))\n",
        "\n",
        "efficient_net.trainable = False\n",
        "model.add(efficient_net)\n",
        "model.add(Flatten())\n",
        "model.add(Dense(32, activation='relu'))\n",
        "model.add(Dense(64, activation='relu'))\n",
        "model.add(Dense(2, activation='sigmoid'))\n",
        "model.compile(loss='binary_crossentropy',\n",
        "            optimizer=Adam(learning_rate=0.0001),\n",
        "            metrics=['accuracy'])\n",
        "model.summary()\n",
        "\n",
        "loss, acc = model.evaluate(x_test_norm, y_test_encoded, verbose=2)\n",
        "print('Restored model, accuracy: {:5.2f}%'.format(100 * acc))"
      ],
      "metadata": {
        "id": "JB8CexMwDJFH",
        "colab": {
          "base_uri": "https://localhost:8080/"
        },
        "outputId": "58f2c54e-cb71-4e63-ced8-b7a297288a78"
      },
      "execution_count": null,
      "outputs": [
        {
          "output_type": "stream",
          "name": "stdout",
          "text": [
            "Mounted at /content/drive\n"
          ]
        }
      ]
    },
    {
      "cell_type": "code",
      "execution_count": null,
      "metadata": {
        "id": "Q0oqih5H5enH",
        "colab": {
          "base_uri": "https://localhost:8080/"
        },
        "outputId": "a89dd55b-50ca-492c-cb4f-30777ae7a85f"
      },
      "outputs": [
        {
          "output_type": "stream",
          "name": "stdout",
          "text": [
            "Collecting efficientnet\n",
            "  Downloading efficientnet-1.1.1-py3-none-any.whl (18 kB)\n",
            "Collecting keras-applications<=1.0.8,>=1.0.7 (from efficientnet)\n",
            "  Downloading Keras_Applications-1.0.8-py3-none-any.whl (50 kB)\n",
            "\u001b[?25l     \u001b[90m━━━━━━━━━━━━━━━━━━━━━━━━━━━━━━━━━━━━━━━━\u001b[0m \u001b[32m0.0/50.7 kB\u001b[0m \u001b[31m?\u001b[0m eta \u001b[36m-:--:--\u001b[0m\r\u001b[2K     \u001b[90m━━━━━━━━━━━━━━━━━━━━━━━━━━━━━━━━━━━━━━━━\u001b[0m \u001b[32m50.7/50.7 kB\u001b[0m \u001b[31m6.6 MB/s\u001b[0m eta \u001b[36m0:00:00\u001b[0m\n",
            "\u001b[?25hRequirement already satisfied: scikit-image in /usr/local/lib/python3.10/dist-packages (from efficientnet) (0.19.3)\n",
            "Requirement already satisfied: numpy>=1.9.1 in /usr/local/lib/python3.10/dist-packages (from keras-applications<=1.0.8,>=1.0.7->efficientnet) (1.22.4)\n",
            "Requirement already satisfied: h5py in /usr/local/lib/python3.10/dist-packages (from keras-applications<=1.0.8,>=1.0.7->efficientnet) (3.8.0)\n",
            "Requirement already satisfied: scipy>=1.4.1 in /usr/local/lib/python3.10/dist-packages (from scikit-image->efficientnet) (1.10.1)\n",
            "Requirement already satisfied: networkx>=2.2 in /usr/local/lib/python3.10/dist-packages (from scikit-image->efficientnet) (3.1)\n",
            "Requirement already satisfied: pillow!=7.1.0,!=7.1.1,!=8.3.0,>=6.1.0 in /usr/local/lib/python3.10/dist-packages (from scikit-image->efficientnet) (8.4.0)\n",
            "Requirement already satisfied: imageio>=2.4.1 in /usr/local/lib/python3.10/dist-packages (from scikit-image->efficientnet) (2.25.1)\n",
            "Requirement already satisfied: tifffile>=2019.7.26 in /usr/local/lib/python3.10/dist-packages (from scikit-image->efficientnet) (2023.4.12)\n",
            "Requirement already satisfied: PyWavelets>=1.1.1 in /usr/local/lib/python3.10/dist-packages (from scikit-image->efficientnet) (1.4.1)\n",
            "Requirement already satisfied: packaging>=20.0 in /usr/local/lib/python3.10/dist-packages (from scikit-image->efficientnet) (23.1)\n",
            "Installing collected packages: keras-applications, efficientnet\n",
            "Successfully installed efficientnet-1.1.1 keras-applications-1.0.8\n"
          ]
        }
      ],
      "source": [
        "!pip install efficientnet"
      ]
    },
    {
      "cell_type": "code",
      "source": [
        "import tensorflow as tf\n",
        "import efficientnet.keras as efn\n",
        "from tensorflow.keras.models import Sequential\n",
        "from tensorflow.keras.layers import  Flatten, Dense, Dropout\n",
        "from tensorflow.keras.optimizers import Adam\n",
        "from tensorflow.keras.preprocessing import image\n",
        "from tensorflow.keras.utils import array_to_img, to_categorical\n",
        "from sklearn.metrics import confusion_matrix\n",
        "import matplotlib.pyplot as plt\n",
        "import numpy as np\n",
        "import seaborn as sns\n",
        "import os"
      ],
      "metadata": {
        "id": "ycWCsm1cEYnE"
      },
      "execution_count": null,
      "outputs": []
    },
    {
      "cell_type": "code",
      "execution_count": null,
      "metadata": {
        "id": "9zl3ZZZZUnV-"
      },
      "outputs": [],
      "source": [
        "def load_images_from_path(path, label):\n",
        "    images = []\n",
        "    labels = []\n",
        "\n",
        "    for file in os.listdir(path):\n",
        "        images.append(image.img_to_array(image.load_img(os.path.join(path, file), target_size=(380, 380, 3))))\n",
        "        labels.append((label))\n",
        "\n",
        "    return images, labels\n",
        "\n",
        "def show_images(images):\n",
        "    fig, axes = plt.subplots(1, 5, figsize=(20, 20), subplot_kw={'xticks': [], 'yticks': []})\n",
        "\n",
        "    for i, ax in enumerate(axes.flat):\n",
        "        ax.imshow(images[i] / 255)\n",
        "\n",
        "x_train = []\n",
        "y_train = []\n",
        "x_test = []\n",
        "y_test = []"
      ]
    },
    {
      "cell_type": "code",
      "source": [
        "base_dir = \"/content/drive/MyDrive/SKRIPSI AGHNI/HA-HT/S3\"\n",
        "train_dir = os.path.join(base_dir, 'train')\n",
        "val_dir = os.path.join(base_dir, 'test')\n",
        "\n",
        "directories_train = [(os.path.join(train_dir, 'HA'), 0),\n",
        "                     (os.path.join(train_dir, 'HT'), 1)]\n",
        "\n",
        "directories_test = [(os.path.join(val_dir, 'HA'), 0),\n",
        "                    (os.path.join(val_dir, 'HT'), 1)]\n",
        "\n",
        "# Load train images and labels\n",
        "for directory, label in directories_train:\n",
        "    images, labels = load_images_from_path(directory, label)\n",
        "    x_train += images\n",
        "    y_train += labels\n",
        "\n",
        "# Load test images and labels\n",
        "for directory, label in directories_test:\n",
        "    images, labels = load_images_from_path(directory, label)\n",
        "    x_test += images\n",
        "    y_test += labels\n"
      ],
      "metadata": {
        "id": "lA5KxSjeMYpa"
      },
      "execution_count": null,
      "outputs": []
    },
    {
      "cell_type": "code",
      "execution_count": null,
      "metadata": {
        "id": "FY2hZQVEVAeO"
      },
      "outputs": [],
      "source": [
        "x_train_norm = np.array(x_train) / 255\n",
        "x_test_norm = np.array(x_test) / 255\n",
        "\n",
        "y_train_encoded = to_categorical(y_train)\n",
        "y_test_encoded = to_categorical(y_test)"
      ]
    },
    {
      "cell_type": "code",
      "execution_count": null,
      "metadata": {
        "id": "SoMCmvBu41mh",
        "colab": {
          "base_uri": "https://localhost:8080/"
        },
        "outputId": "1113a034-b9de-483d-ff82-d37016befd61"
      },
      "outputs": [
        {
          "output_type": "stream",
          "name": "stdout",
          "text": [
            "Downloading data from https://github.com/Callidior/keras-applications/releases/download/efficientnet/efficientnet-b4_weights_tf_dim_ordering_tf_kernels_autoaugment.h5\n",
            "78856072/78856072 [==============================] - 5s 0us/step\n",
            "Model: \"sequential\"\n",
            "_________________________________________________________________\n",
            " Layer (type)                Output Shape              Param #   \n",
            "=================================================================\n",
            " efficientnet-b4 (Functional  (None, 1000)             19466816  \n",
            " )                                                               \n",
            "                                                                 \n",
            " flatten (Flatten)           (None, 1000)              0         \n",
            "                                                                 \n",
            " dense (Dense)               (None, 32)                32032     \n",
            "                                                                 \n",
            " dense_1 (Dense)             (None, 64)                2112      \n",
            "                                                                 \n",
            " dense_2 (Dense)             (None, 2)                 130       \n",
            "                                                                 \n",
            "=================================================================\n",
            "Total params: 19,501,090\n",
            "Trainable params: 34,274\n",
            "Non-trainable params: 19,466,816\n",
            "_________________________________________________________________\n"
          ]
        }
      ],
      "source": [
        "model = Sequential()\n",
        "efficient_net = efn.EfficientNetB4(weights=\"imagenet\" , include_top=True, input_shape=(380,380,3))\n",
        "\n",
        "efficient_net.trainable = False\n",
        "model.add(efficient_net)\n",
        "model.add(Flatten())\n",
        "model.add(Dense(32, activation='relu'))\n",
        "model.add(Dense(64, activation='relu'))\n",
        "model.add(Dense(2, activation='sigmoid'))\n",
        "model.compile(loss='binary_crossentropy',\n",
        "            optimizer=Adam(learning_rate=0.0001),\n",
        "            metrics=['accuracy'])\n",
        "model.summary()"
      ]
    },
    {
      "cell_type": "code",
      "source": [
        "# Melatih model dengan generator data latih\n",
        "model.fit(x_train_norm, y_train_encoded, batch_size=11, steps_per_epoch=2 ,epochs=20)"
      ],
      "metadata": {
        "id": "8O-M4FR_jQP3",
        "colab": {
          "base_uri": "https://localhost:8080/"
        },
        "outputId": "3114f111-9814-4686-f3af-5fef4a41d240"
      },
      "execution_count": null,
      "outputs": [
        {
          "output_type": "stream",
          "name": "stdout",
          "text": [
            "Epoch 1/20\n",
            "2/2 [==============================] - 28s 207ms/step - loss: 0.6930 - accuracy: 0.5909\n",
            "Epoch 2/20\n",
            "2/2 [==============================] - 0s 147ms/step - loss: 0.6941 - accuracy: 0.3636\n",
            "Epoch 3/20\n",
            "2/2 [==============================] - 0s 153ms/step - loss: 0.6937 - accuracy: 0.4545\n",
            "Epoch 4/20\n",
            "2/2 [==============================] - 0s 147ms/step - loss: 0.6941 - accuracy: 0.4091\n",
            "Epoch 5/20\n",
            "2/2 [==============================] - 0s 153ms/step - loss: 0.6936 - accuracy: 0.5000\n",
            "Epoch 6/20\n",
            "2/2 [==============================] - 0s 77ms/step - loss: 0.6936 - accuracy: 0.3846\n",
            "Epoch 7/20\n",
            "2/2 [==============================] - 0s 151ms/step - loss: 0.6932 - accuracy: 0.5909\n",
            "Epoch 8/20\n",
            "2/2 [==============================] - 0s 155ms/step - loss: 0.6928 - accuracy: 0.6364\n",
            "Epoch 9/20\n",
            "2/2 [==============================] - 0s 151ms/step - loss: 0.6925 - accuracy: 0.7727\n",
            "Epoch 10/20\n",
            "2/2 [==============================] - 0s 151ms/step - loss: 0.6933 - accuracy: 0.5000\n",
            "Epoch 11/20\n",
            "2/2 [==============================] - 0s 148ms/step - loss: 0.6930 - accuracy: 0.7273\n",
            "Epoch 12/20\n",
            "2/2 [==============================] - 0s 45ms/step - loss: 0.6934 - accuracy: 0.5385\n",
            "Epoch 13/20\n",
            "2/2 [==============================] - 0s 151ms/step - loss: 0.6931 - accuracy: 0.5909\n",
            "Epoch 14/20\n",
            "2/2 [==============================] - 0s 150ms/step - loss: 0.6920 - accuracy: 0.8182\n",
            "Epoch 15/20\n",
            "2/2 [==============================] - 0s 153ms/step - loss: 0.6930 - accuracy: 0.5000\n",
            "Epoch 16/20\n",
            "2/2 [==============================] - 0s 149ms/step - loss: 0.6924 - accuracy: 0.7273\n",
            "Epoch 17/20\n",
            "2/2 [==============================] - 0s 155ms/step - loss: 0.6921 - accuracy: 0.7727\n",
            "Epoch 18/20\n",
            "2/2 [==============================] - 0s 46ms/step - loss: 0.6927 - accuracy: 0.6923\n",
            "Epoch 19/20\n",
            "2/2 [==============================] - 0s 151ms/step - loss: 0.6922 - accuracy: 0.8182\n",
            "Epoch 20/20\n",
            "2/2 [==============================] - 0s 151ms/step - loss: 0.6921 - accuracy: 0.7727\n"
          ]
        },
        {
          "output_type": "execute_result",
          "data": {
            "text/plain": [
              "<keras.callbacks.History at 0x7f84300ebdf0>"
            ]
          },
          "metadata": {},
          "execution_count": 8
        }
      ]
    },
    {
      "cell_type": "code",
      "source": [
        "loss, acc = model.evaluate(x_test_norm, y_test_encoded, verbose=2)\n",
        "print('Restored model, accuracy: {:5.2f}%'.format(100 * acc))"
      ],
      "metadata": {
        "colab": {
          "base_uri": "https://localhost:8080/"
        },
        "id": "GOiXBWxljkpY",
        "outputId": "1b60db16-ae5f-46d2-bd42-7bf456be7e24"
      },
      "execution_count": null,
      "outputs": [
        {
          "output_type": "stream",
          "name": "stdout",
          "text": [
            "2/2 - 7s - loss: 0.6924 - accuracy: 0.6538 - 7s/epoch - 3s/step\n",
            "Restored model, accuracy: 65.38%\n"
          ]
        }
      ]
    },
    {
      "cell_type": "code",
      "execution_count": null,
      "metadata": {
        "id": "QfoNRIggVqHv",
        "colab": {
          "base_uri": "https://localhost:8080/"
        },
        "outputId": "2c033fde-5364-4f89-8db2-fae21eae8aa5"
      },
      "outputs": [
        {
          "output_type": "stream",
          "name": "stdout",
          "text": [
            "2/2 [==============================] - 3s 398ms/step\n",
            "[0 0 0 0 0 0 0 0 0 0 0 0 0 0 0 0 0 0 0 0 0 0 0 0 0 0 0 0 0 0 1 1 1 1 1 1 1\n",
            " 1 1 1 1 1 1 1 1 1 1 1 1 1 1 1]\n",
            "[1 0 1 1 1 0 0 1 1 1 0 0 1 0 0 0 0 0 0 0 0 0 0 0 0 0 0 0 0 0 0 0 0 0 0 0 0\n",
            " 0 0 0 1 1 1 1 1 1 1 1 1 1 1 1]\n"
          ]
        },
        {
          "output_type": "execute_result",
          "data": {
            "text/plain": [
              "Text(109.44999999999997, 0.5, 'Actual label')"
            ]
          },
          "metadata": {},
          "execution_count": 10
        },
        {
          "output_type": "display_data",
          "data": {
            "text/plain": [
              "<Figure size 640x480 with 1 Axes>"
            ],
            "image/png": "[encoded data removed]"
          },
          "metadata": {}
        }
      ],
      "source": [
        "# Confusion Matrix data test\n",
        "sns.set()\n",
        "\n",
        "y_predicted = model.predict(x_test_norm)\n",
        "mat = confusion_matrix(y_test_encoded.argmax(axis=1), y_predicted.argmax(axis=1))\n",
        "class_labels = ['HA','HT']\n",
        "print(y_test_encoded.argmax(axis=1))\n",
        "print(y_predicted.argmax(axis=1))\n",
        "sns.heatmap(mat, square=True, annot=True, fmt='d', cbar=False, cmap='Blues',\n",
        "            xticklabels=class_labels,\n",
        "            yticklabels=class_labels)\n",
        "\n",
        "plt.xlabel('Predicted label')\n",
        "plt.ylabel('Actual label')"
      ]
    },
    {
      "cell_type": "code",
      "source": [
        "model.save('HA-HT-S3.h5')"
      ],
      "metadata": {
        "id": "SWMCpQXGlxxI"
      },
      "execution_count": null,
      "outputs": []
    }
  ]
}